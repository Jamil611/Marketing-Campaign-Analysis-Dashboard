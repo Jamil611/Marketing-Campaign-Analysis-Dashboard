{
 "cells": [
  {
   "cell_type": "markdown",
   "id": "96a6a2be-9961-465c-b9dc-d161e8ceb1c7",
   "metadata": {},
   "source": [
    "# Marketing Campaign Dataset Data Cleaning by Jamil"
   ]
  },
  {
   "cell_type": "markdown",
   "id": "0224a3d9-80c4-46e6-9c49-3e989d63287b",
   "metadata": {},
   "source": [
    "## Importing Library "
   ]
  },
  {
   "cell_type": "code",
   "execution_count": 1,
   "id": "f1317d46-4d57-488c-93c1-cd7b6a78a59f",
   "metadata": {},
   "outputs": [],
   "source": [
    "import pandas as pd"
   ]
  },
  {
   "cell_type": "markdown",
   "id": "6533cfce-39d0-4fa8-a063-775a7fb6542f",
   "metadata": {},
   "source": [
    "## Importing Dataset"
   ]
  },
  {
   "cell_type": "code",
   "execution_count": 2,
   "id": "a006a7bb-ab7c-4207-a33a-f1d490b1549e",
   "metadata": {},
   "outputs": [],
   "source": [
    "df = pd.read_csv(\"marketing_campaign.csv\")"
   ]
  },
  {
   "cell_type": "code",
   "execution_count": 3,
   "id": "83f682ce-29d7-4e0d-84d1-6f4e81034d55",
   "metadata": {},
   "outputs": [
    {
     "data": {
      "text/html": [
       "<div>\n",
       "<style scoped>\n",
       "    .dataframe tbody tr th:only-of-type {\n",
       "        vertical-align: middle;\n",
       "    }\n",
       "\n",
       "    .dataframe tbody tr th {\n",
       "        vertical-align: top;\n",
       "    }\n",
       "\n",
       "    .dataframe thead th {\n",
       "        text-align: right;\n",
       "    }\n",
       "</style>\n",
       "<table border=\"1\" class=\"dataframe\">\n",
       "  <thead>\n",
       "    <tr style=\"text-align: right;\">\n",
       "      <th></th>\n",
       "      <th>Campaign_ID</th>\n",
       "      <th>Company</th>\n",
       "      <th>Campaign_Type</th>\n",
       "      <th>Target_Audience</th>\n",
       "      <th>Duration</th>\n",
       "      <th>Channel_Used</th>\n",
       "      <th>Conversion_Rate</th>\n",
       "      <th>Acquisition_Cost</th>\n",
       "      <th>ROI</th>\n",
       "      <th>Location</th>\n",
       "      <th>Date</th>\n",
       "      <th>Clicks</th>\n",
       "      <th>Impressions</th>\n",
       "      <th>Engagement_Score</th>\n",
       "      <th>Customer_Segment</th>\n",
       "    </tr>\n",
       "  </thead>\n",
       "  <tbody>\n",
       "    <tr>\n",
       "      <th>0</th>\n",
       "      <td>1</td>\n",
       "      <td>Innovate Industries</td>\n",
       "      <td>Email</td>\n",
       "      <td>Men 18-24</td>\n",
       "      <td>30 days</td>\n",
       "      <td>Google Ads</td>\n",
       "      <td>0.04</td>\n",
       "      <td>$16,174.00</td>\n",
       "      <td>6.29</td>\n",
       "      <td>Chicago</td>\n",
       "      <td>01-01-21</td>\n",
       "      <td>506</td>\n",
       "      <td>1922</td>\n",
       "      <td>6</td>\n",
       "      <td>Health &amp; Wellness</td>\n",
       "    </tr>\n",
       "    <tr>\n",
       "      <th>1</th>\n",
       "      <td>2</td>\n",
       "      <td>NexGen Systems</td>\n",
       "      <td>Email</td>\n",
       "      <td>Women 35-44</td>\n",
       "      <td>60 days</td>\n",
       "      <td>Google Ads</td>\n",
       "      <td>0.12</td>\n",
       "      <td>$11,566.00</td>\n",
       "      <td>5.61</td>\n",
       "      <td>New York</td>\n",
       "      <td>01-02-21</td>\n",
       "      <td>116</td>\n",
       "      <td>7523</td>\n",
       "      <td>7</td>\n",
       "      <td>Fashionistas</td>\n",
       "    </tr>\n",
       "    <tr>\n",
       "      <th>2</th>\n",
       "      <td>3</td>\n",
       "      <td>Alpha Innovations</td>\n",
       "      <td>Influencer</td>\n",
       "      <td>Men 25-34</td>\n",
       "      <td>30 days</td>\n",
       "      <td>YouTube</td>\n",
       "      <td>0.07</td>\n",
       "      <td>$10,200.00</td>\n",
       "      <td>7.18</td>\n",
       "      <td>Los Angeles</td>\n",
       "      <td>01-03-21</td>\n",
       "      <td>584</td>\n",
       "      <td>7698</td>\n",
       "      <td>1</td>\n",
       "      <td>Outdoor Adventurers</td>\n",
       "    </tr>\n",
       "    <tr>\n",
       "      <th>3</th>\n",
       "      <td>4</td>\n",
       "      <td>DataTech Solutions</td>\n",
       "      <td>Display</td>\n",
       "      <td>All Ages</td>\n",
       "      <td>60 days</td>\n",
       "      <td>YouTube</td>\n",
       "      <td>0.11</td>\n",
       "      <td>$12,724.00</td>\n",
       "      <td>5.55</td>\n",
       "      <td>Miami</td>\n",
       "      <td>01-04-21</td>\n",
       "      <td>217</td>\n",
       "      <td>1820</td>\n",
       "      <td>7</td>\n",
       "      <td>Health &amp; Wellness</td>\n",
       "    </tr>\n",
       "    <tr>\n",
       "      <th>4</th>\n",
       "      <td>5</td>\n",
       "      <td>NexGen Systems</td>\n",
       "      <td>Email</td>\n",
       "      <td>Men 25-34</td>\n",
       "      <td>15 days</td>\n",
       "      <td>YouTube</td>\n",
       "      <td>0.05</td>\n",
       "      <td>$16,452.00</td>\n",
       "      <td>6.50</td>\n",
       "      <td>Los Angeles</td>\n",
       "      <td>01-05-21</td>\n",
       "      <td>379</td>\n",
       "      <td>4201</td>\n",
       "      <td>3</td>\n",
       "      <td>Health &amp; Wellness</td>\n",
       "    </tr>\n",
       "  </tbody>\n",
       "</table>\n",
       "</div>"
      ],
      "text/plain": [
       "   Campaign_ID              Company Campaign_Type Target_Audience Duration  \\\n",
       "0            1  Innovate Industries         Email       Men 18-24  30 days   \n",
       "1            2       NexGen Systems         Email     Women 35-44  60 days   \n",
       "2            3    Alpha Innovations    Influencer       Men 25-34  30 days   \n",
       "3            4   DataTech Solutions       Display        All Ages  60 days   \n",
       "4            5       NexGen Systems         Email       Men 25-34  15 days   \n",
       "\n",
       "  Channel_Used  Conversion_Rate Acquisition_Cost   ROI     Location      Date  \\\n",
       "0   Google Ads             0.04      $16,174.00   6.29      Chicago  01-01-21   \n",
       "1   Google Ads             0.12      $11,566.00   5.61     New York  01-02-21   \n",
       "2      YouTube             0.07      $10,200.00   7.18  Los Angeles  01-03-21   \n",
       "3      YouTube             0.11      $12,724.00   5.55        Miami  01-04-21   \n",
       "4      YouTube             0.05      $16,452.00   6.50  Los Angeles  01-05-21   \n",
       "\n",
       "   Clicks  Impressions  Engagement_Score     Customer_Segment  \n",
       "0     506         1922                 6    Health & Wellness  \n",
       "1     116         7523                 7         Fashionistas  \n",
       "2     584         7698                 1  Outdoor Adventurers  \n",
       "3     217         1820                 7    Health & Wellness  \n",
       "4     379         4201                 3    Health & Wellness  "
      ]
     },
     "execution_count": 3,
     "metadata": {},
     "output_type": "execute_result"
    }
   ],
   "source": [
    "df.head(5)"
   ]
  },
  {
   "cell_type": "markdown",
   "id": "24b08c1f-bbbf-4629-bb49-7e351fddc671",
   "metadata": {},
   "source": [
    "## Check Basics Information"
   ]
  },
  {
   "cell_type": "code",
   "execution_count": 4,
   "id": "65c93de5-71ab-46a0-8366-c2b76dadb384",
   "metadata": {},
   "outputs": [
    {
     "name": "stdout",
     "output_type": "stream",
     "text": [
      "<class 'pandas.core.frame.DataFrame'>\n",
      "RangeIndex: 200005 entries, 0 to 200004\n",
      "Data columns (total 15 columns):\n",
      " #   Column            Non-Null Count   Dtype  \n",
      "---  ------            --------------   -----  \n",
      " 0   Campaign_ID       200005 non-null  int64  \n",
      " 1   Company           200005 non-null  object \n",
      " 2   Campaign_Type     200005 non-null  object \n",
      " 3   Target_Audience   200005 non-null  object \n",
      " 4   Duration          200005 non-null  object \n",
      " 5   Channel_Used      200005 non-null  object \n",
      " 6   Conversion_Rate   200005 non-null  float64\n",
      " 7   Acquisition_Cost  200005 non-null  object \n",
      " 8   ROI               200005 non-null  float64\n",
      " 9   Location          200005 non-null  object \n",
      " 10  Date              200005 non-null  object \n",
      " 11  Clicks            200005 non-null  int64  \n",
      " 12  Impressions       200005 non-null  int64  \n",
      " 13  Engagement_Score  200005 non-null  int64  \n",
      " 14  Customer_Segment  200005 non-null  object \n",
      "dtypes: float64(2), int64(4), object(9)\n",
      "memory usage: 22.9+ MB\n"
     ]
    }
   ],
   "source": [
    "df.info()"
   ]
  },
  {
   "cell_type": "code",
   "execution_count": 5,
   "id": "d360c703-6a20-4fb7-b81c-82c39fe7b2ed",
   "metadata": {},
   "outputs": [
    {
     "data": {
      "text/html": [
       "<div>\n",
       "<style scoped>\n",
       "    .dataframe tbody tr th:only-of-type {\n",
       "        vertical-align: middle;\n",
       "    }\n",
       "\n",
       "    .dataframe tbody tr th {\n",
       "        vertical-align: top;\n",
       "    }\n",
       "\n",
       "    .dataframe thead th {\n",
       "        text-align: right;\n",
       "    }\n",
       "</style>\n",
       "<table border=\"1\" class=\"dataframe\">\n",
       "  <thead>\n",
       "    <tr style=\"text-align: right;\">\n",
       "      <th></th>\n",
       "      <th>Campaign_ID</th>\n",
       "      <th>Conversion_Rate</th>\n",
       "      <th>ROI</th>\n",
       "      <th>Clicks</th>\n",
       "      <th>Impressions</th>\n",
       "      <th>Engagement_Score</th>\n",
       "    </tr>\n",
       "  </thead>\n",
       "  <tbody>\n",
       "    <tr>\n",
       "      <th>count</th>\n",
       "      <td>200005.000000</td>\n",
       "      <td>200005.000000</td>\n",
       "      <td>200005.000000</td>\n",
       "      <td>200005.000000</td>\n",
       "      <td>200005.000000</td>\n",
       "      <td>200005.000000</td>\n",
       "    </tr>\n",
       "    <tr>\n",
       "      <th>mean</th>\n",
       "      <td>100003.000000</td>\n",
       "      <td>0.080069</td>\n",
       "      <td>5.002416</td>\n",
       "      <td>549.774591</td>\n",
       "      <td>5507.307107</td>\n",
       "      <td>5.494673</td>\n",
       "    </tr>\n",
       "    <tr>\n",
       "      <th>std</th>\n",
       "      <td>57736.614632</td>\n",
       "      <td>0.040602</td>\n",
       "      <td>1.734485</td>\n",
       "      <td>260.019354</td>\n",
       "      <td>2596.863794</td>\n",
       "      <td>2.872593</td>\n",
       "    </tr>\n",
       "    <tr>\n",
       "      <th>min</th>\n",
       "      <td>1.000000</td>\n",
       "      <td>0.010000</td>\n",
       "      <td>2.000000</td>\n",
       "      <td>100.000000</td>\n",
       "      <td>1000.000000</td>\n",
       "      <td>1.000000</td>\n",
       "    </tr>\n",
       "    <tr>\n",
       "      <th>25%</th>\n",
       "      <td>50002.000000</td>\n",
       "      <td>0.050000</td>\n",
       "      <td>3.500000</td>\n",
       "      <td>325.000000</td>\n",
       "      <td>3266.000000</td>\n",
       "      <td>3.000000</td>\n",
       "    </tr>\n",
       "    <tr>\n",
       "      <th>50%</th>\n",
       "      <td>100003.000000</td>\n",
       "      <td>0.080000</td>\n",
       "      <td>5.010000</td>\n",
       "      <td>550.000000</td>\n",
       "      <td>5518.000000</td>\n",
       "      <td>5.000000</td>\n",
       "    </tr>\n",
       "    <tr>\n",
       "      <th>75%</th>\n",
       "      <td>150004.000000</td>\n",
       "      <td>0.120000</td>\n",
       "      <td>6.510000</td>\n",
       "      <td>775.000000</td>\n",
       "      <td>7753.000000</td>\n",
       "      <td>8.000000</td>\n",
       "    </tr>\n",
       "    <tr>\n",
       "      <th>max</th>\n",
       "      <td>200005.000000</td>\n",
       "      <td>0.150000</td>\n",
       "      <td>8.000000</td>\n",
       "      <td>1000.000000</td>\n",
       "      <td>10000.000000</td>\n",
       "      <td>10.000000</td>\n",
       "    </tr>\n",
       "  </tbody>\n",
       "</table>\n",
       "</div>"
      ],
      "text/plain": [
       "         Campaign_ID  Conversion_Rate            ROI         Clicks  \\\n",
       "count  200005.000000    200005.000000  200005.000000  200005.000000   \n",
       "mean   100003.000000         0.080069       5.002416     549.774591   \n",
       "std     57736.614632         0.040602       1.734485     260.019354   \n",
       "min         1.000000         0.010000       2.000000     100.000000   \n",
       "25%     50002.000000         0.050000       3.500000     325.000000   \n",
       "50%    100003.000000         0.080000       5.010000     550.000000   \n",
       "75%    150004.000000         0.120000       6.510000     775.000000   \n",
       "max    200005.000000         0.150000       8.000000    1000.000000   \n",
       "\n",
       "         Impressions  Engagement_Score  \n",
       "count  200005.000000     200005.000000  \n",
       "mean     5507.307107          5.494673  \n",
       "std      2596.863794          2.872593  \n",
       "min      1000.000000          1.000000  \n",
       "25%      3266.000000          3.000000  \n",
       "50%      5518.000000          5.000000  \n",
       "75%      7753.000000          8.000000  \n",
       "max     10000.000000         10.000000  "
      ]
     },
     "execution_count": 5,
     "metadata": {},
     "output_type": "execute_result"
    }
   ],
   "source": [
    "df.describe()"
   ]
  },
  {
   "cell_type": "markdown",
   "id": "c87c6ff0-1ae3-4aa1-9ba9-33d1e0cf7036",
   "metadata": {},
   "source": [
    "## Check null and missing values"
   ]
  },
  {
   "cell_type": "code",
   "execution_count": 6,
   "id": "b187c2f9-9daf-40f9-818a-71d547808d33",
   "metadata": {},
   "outputs": [
    {
     "data": {
      "text/plain": [
       "Campaign_ID         0\n",
       "Company             0\n",
       "Campaign_Type       0\n",
       "Target_Audience     0\n",
       "Duration            0\n",
       "Channel_Used        0\n",
       "Conversion_Rate     0\n",
       "Acquisition_Cost    0\n",
       "ROI                 0\n",
       "Location            0\n",
       "Date                0\n",
       "Clicks              0\n",
       "Impressions         0\n",
       "Engagement_Score    0\n",
       "Customer_Segment    0\n",
       "dtype: int64"
      ]
     },
     "execution_count": 6,
     "metadata": {},
     "output_type": "execute_result"
    }
   ],
   "source": [
    "df.isnull().sum()"
   ]
  },
  {
   "cell_type": "code",
   "execution_count": 7,
   "id": "e49f977e-3003-477f-a55a-235c68d1dd52",
   "metadata": {},
   "outputs": [
    {
     "data": {
      "text/plain": [
       "Campaign_ID         0\n",
       "Company             0\n",
       "Campaign_Type       0\n",
       "Target_Audience     0\n",
       "Duration            0\n",
       "Channel_Used        0\n",
       "Conversion_Rate     0\n",
       "Acquisition_Cost    0\n",
       "ROI                 0\n",
       "Location            0\n",
       "Date                0\n",
       "Clicks              0\n",
       "Impressions         0\n",
       "Engagement_Score    0\n",
       "Customer_Segment    0\n",
       "dtype: int64"
      ]
     },
     "execution_count": 7,
     "metadata": {},
     "output_type": "execute_result"
    }
   ],
   "source": [
    "(df == '').sum()"
   ]
  },
  {
   "cell_type": "markdown",
   "id": "e6e80e30-05f4-48b3-a1a7-4ca198723695",
   "metadata": {},
   "source": [
    "## Check Duplicates"
   ]
  },
  {
   "cell_type": "code",
   "execution_count": 8,
   "id": "53471873-145d-4a6b-854a-fca3d765213a",
   "metadata": {},
   "outputs": [
    {
     "data": {
      "text/plain": [
       "np.False_"
      ]
     },
     "execution_count": 8,
     "metadata": {},
     "output_type": "execute_result"
    }
   ],
   "source": [
    "df.duplicated().any()"
   ]
  },
  {
   "cell_type": "markdown",
   "id": "04bee2c5-9dcc-455b-ac0f-4ea8d35552f3",
   "metadata": {},
   "source": [
    "## Fixing Data Types"
   ]
  },
  {
   "cell_type": "code",
   "execution_count": 9,
   "id": "cb80a8da-130f-46fb-ad25-406a04108520",
   "metadata": {},
   "outputs": [
    {
     "data": {
      "text/plain": [
       "Campaign_ID           int64\n",
       "Company              object\n",
       "Campaign_Type        object\n",
       "Target_Audience      object\n",
       "Duration             object\n",
       "Channel_Used         object\n",
       "Conversion_Rate     float64\n",
       "Acquisition_Cost     object\n",
       "ROI                 float64\n",
       "Location             object\n",
       "Date                 object\n",
       "Clicks                int64\n",
       "Impressions           int64\n",
       "Engagement_Score      int64\n",
       "Customer_Segment     object\n",
       "dtype: object"
      ]
     },
     "execution_count": 9,
     "metadata": {},
     "output_type": "execute_result"
    }
   ],
   "source": [
    "df.dtypes"
   ]
  },
  {
   "cell_type": "code",
   "execution_count": 10,
   "id": "762be739-e4c7-4cc8-b48c-095ffcc138e2",
   "metadata": {},
   "outputs": [],
   "source": [
    "df['Duration']=df['Duration'].str.replace(\" days\", \" \").astype(int)"
   ]
  },
  {
   "cell_type": "code",
   "execution_count": 11,
   "id": "23975138-cd16-4ae3-b6da-41c96683496f",
   "metadata": {},
   "outputs": [],
   "source": [
    "df['Acquisition_Cost']=pd.to_numeric(df['Acquisition_Cost'].astype(str)\n",
    "                    .str.replace(r'[\\$,]', '', regex=True)\n",
    "                    .str.strip(),\n",
    "                    errors='coerce')"
   ]
  },
  {
   "cell_type": "code",
   "execution_count": 15,
   "id": "2c64a3ea-535a-42d7-b2c2-d2b3debb7ca8",
   "metadata": {},
   "outputs": [],
   "source": [
    "df['Date']= pd.to_datetime(df['Date'], format='%m-%d-%y')"
   ]
  },
  {
   "cell_type": "code",
   "execution_count": 16,
   "id": "5717c3a2-5afe-4581-b73e-292a204f01e1",
   "metadata": {},
   "outputs": [
    {
     "data": {
      "text/plain": [
       "Campaign_ID                  int64\n",
       "Company                     object\n",
       "Campaign_Type               object\n",
       "Target_Audience             object\n",
       "Duration                     int64\n",
       "Channel_Used                object\n",
       "Conversion_Rate            float64\n",
       "Acquisition_Cost           float64\n",
       "ROI                        float64\n",
       "Location                    object\n",
       "Date                datetime64[ns]\n",
       "Clicks                       int64\n",
       "Impressions                  int64\n",
       "Engagement_Score             int64\n",
       "Customer_Segment            object\n",
       "dtype: object"
      ]
     },
     "execution_count": 16,
     "metadata": {},
     "output_type": "execute_result"
    }
   ],
   "source": [
    "df.dtypes"
   ]
  },
  {
   "cell_type": "code",
   "execution_count": 18,
   "id": "6eae0bdb-5966-4ee1-88db-2f15d4c39892",
   "metadata": {},
   "outputs": [
    {
     "data": {
      "text/plain": [
       "Campaign_ID         0\n",
       "Company             0\n",
       "Campaign_Type       0\n",
       "Target_Audience     0\n",
       "Duration            0\n",
       "Channel_Used        0\n",
       "Conversion_Rate     0\n",
       "Acquisition_Cost    0\n",
       "ROI                 0\n",
       "Location            0\n",
       "Date                0\n",
       "Clicks              0\n",
       "Impressions         0\n",
       "Engagement_Score    0\n",
       "Customer_Segment    0\n",
       "dtype: int64"
      ]
     },
     "execution_count": 18,
     "metadata": {},
     "output_type": "execute_result"
    }
   ],
   "source": [
    "df.isna().sum()"
   ]
  },
  {
   "cell_type": "code",
   "execution_count": 19,
   "id": "139b8e80-b489-45dc-99e7-e89e81d0b925",
   "metadata": {},
   "outputs": [
    {
     "data": {
      "text/html": [
       "<div>\n",
       "<style scoped>\n",
       "    .dataframe tbody tr th:only-of-type {\n",
       "        vertical-align: middle;\n",
       "    }\n",
       "\n",
       "    .dataframe tbody tr th {\n",
       "        vertical-align: top;\n",
       "    }\n",
       "\n",
       "    .dataframe thead th {\n",
       "        text-align: right;\n",
       "    }\n",
       "</style>\n",
       "<table border=\"1\" class=\"dataframe\">\n",
       "  <thead>\n",
       "    <tr style=\"text-align: right;\">\n",
       "      <th></th>\n",
       "      <th>Campaign_ID</th>\n",
       "      <th>Company</th>\n",
       "      <th>Campaign_Type</th>\n",
       "      <th>Target_Audience</th>\n",
       "      <th>Duration</th>\n",
       "      <th>Channel_Used</th>\n",
       "      <th>Conversion_Rate</th>\n",
       "      <th>Acquisition_Cost</th>\n",
       "      <th>ROI</th>\n",
       "      <th>Location</th>\n",
       "      <th>Date</th>\n",
       "      <th>Clicks</th>\n",
       "      <th>Impressions</th>\n",
       "      <th>Engagement_Score</th>\n",
       "      <th>Customer_Segment</th>\n",
       "    </tr>\n",
       "  </thead>\n",
       "  <tbody>\n",
       "    <tr>\n",
       "      <th>0</th>\n",
       "      <td>1</td>\n",
       "      <td>Innovate Industries</td>\n",
       "      <td>Email</td>\n",
       "      <td>Men 18-24</td>\n",
       "      <td>30</td>\n",
       "      <td>Google Ads</td>\n",
       "      <td>0.04</td>\n",
       "      <td>16174.0</td>\n",
       "      <td>6.29</td>\n",
       "      <td>Chicago</td>\n",
       "      <td>2021-01-01</td>\n",
       "      <td>506</td>\n",
       "      <td>1922</td>\n",
       "      <td>6</td>\n",
       "      <td>Health &amp; Wellness</td>\n",
       "    </tr>\n",
       "    <tr>\n",
       "      <th>1</th>\n",
       "      <td>2</td>\n",
       "      <td>NexGen Systems</td>\n",
       "      <td>Email</td>\n",
       "      <td>Women 35-44</td>\n",
       "      <td>60</td>\n",
       "      <td>Google Ads</td>\n",
       "      <td>0.12</td>\n",
       "      <td>11566.0</td>\n",
       "      <td>5.61</td>\n",
       "      <td>New York</td>\n",
       "      <td>2021-01-02</td>\n",
       "      <td>116</td>\n",
       "      <td>7523</td>\n",
       "      <td>7</td>\n",
       "      <td>Fashionistas</td>\n",
       "    </tr>\n",
       "    <tr>\n",
       "      <th>2</th>\n",
       "      <td>3</td>\n",
       "      <td>Alpha Innovations</td>\n",
       "      <td>Influencer</td>\n",
       "      <td>Men 25-34</td>\n",
       "      <td>30</td>\n",
       "      <td>YouTube</td>\n",
       "      <td>0.07</td>\n",
       "      <td>10200.0</td>\n",
       "      <td>7.18</td>\n",
       "      <td>Los Angeles</td>\n",
       "      <td>2021-01-03</td>\n",
       "      <td>584</td>\n",
       "      <td>7698</td>\n",
       "      <td>1</td>\n",
       "      <td>Outdoor Adventurers</td>\n",
       "    </tr>\n",
       "    <tr>\n",
       "      <th>3</th>\n",
       "      <td>4</td>\n",
       "      <td>DataTech Solutions</td>\n",
       "      <td>Display</td>\n",
       "      <td>All Ages</td>\n",
       "      <td>60</td>\n",
       "      <td>YouTube</td>\n",
       "      <td>0.11</td>\n",
       "      <td>12724.0</td>\n",
       "      <td>5.55</td>\n",
       "      <td>Miami</td>\n",
       "      <td>2021-01-04</td>\n",
       "      <td>217</td>\n",
       "      <td>1820</td>\n",
       "      <td>7</td>\n",
       "      <td>Health &amp; Wellness</td>\n",
       "    </tr>\n",
       "    <tr>\n",
       "      <th>4</th>\n",
       "      <td>5</td>\n",
       "      <td>NexGen Systems</td>\n",
       "      <td>Email</td>\n",
       "      <td>Men 25-34</td>\n",
       "      <td>15</td>\n",
       "      <td>YouTube</td>\n",
       "      <td>0.05</td>\n",
       "      <td>16452.0</td>\n",
       "      <td>6.50</td>\n",
       "      <td>Los Angeles</td>\n",
       "      <td>2021-01-05</td>\n",
       "      <td>379</td>\n",
       "      <td>4201</td>\n",
       "      <td>3</td>\n",
       "      <td>Health &amp; Wellness</td>\n",
       "    </tr>\n",
       "  </tbody>\n",
       "</table>\n",
       "</div>"
      ],
      "text/plain": [
       "   Campaign_ID              Company Campaign_Type Target_Audience  Duration  \\\n",
       "0            1  Innovate Industries         Email       Men 18-24        30   \n",
       "1            2       NexGen Systems         Email     Women 35-44        60   \n",
       "2            3    Alpha Innovations    Influencer       Men 25-34        30   \n",
       "3            4   DataTech Solutions       Display        All Ages        60   \n",
       "4            5       NexGen Systems         Email       Men 25-34        15   \n",
       "\n",
       "  Channel_Used  Conversion_Rate  Acquisition_Cost   ROI     Location  \\\n",
       "0   Google Ads             0.04           16174.0  6.29      Chicago   \n",
       "1   Google Ads             0.12           11566.0  5.61     New York   \n",
       "2      YouTube             0.07           10200.0  7.18  Los Angeles   \n",
       "3      YouTube             0.11           12724.0  5.55        Miami   \n",
       "4      YouTube             0.05           16452.0  6.50  Los Angeles   \n",
       "\n",
       "        Date  Clicks  Impressions  Engagement_Score     Customer_Segment  \n",
       "0 2021-01-01     506         1922                 6    Health & Wellness  \n",
       "1 2021-01-02     116         7523                 7         Fashionistas  \n",
       "2 2021-01-03     584         7698                 1  Outdoor Adventurers  \n",
       "3 2021-01-04     217         1820                 7    Health & Wellness  \n",
       "4 2021-01-05     379         4201                 3    Health & Wellness  "
      ]
     },
     "execution_count": 19,
     "metadata": {},
     "output_type": "execute_result"
    }
   ],
   "source": [
    "df.head(5)"
   ]
  },
  {
   "cell_type": "markdown",
   "id": "7a2282cc-14e5-4834-af65-8c14e9e992e4",
   "metadata": {},
   "source": [
    "## Adding Required Columns"
   ]
  },
  {
   "cell_type": "code",
   "execution_count": 20,
   "id": "a675d750-806c-4d40-8464-97174b92439f",
   "metadata": {},
   "outputs": [],
   "source": [
    "df['Spend']=df['Acquisition_Cost']*df['Conversion_Rate']"
   ]
  },
  {
   "cell_type": "code",
   "execution_count": 23,
   "id": "2686f160-a5c9-48a4-b25b-d85677bac7bd",
   "metadata": {},
   "outputs": [],
   "source": [
    "df['CTR']=(df['Clicks']/df['Impressions'])*100"
   ]
  },
  {
   "cell_type": "code",
   "execution_count": 24,
   "id": "942f1372-e3d2-4e18-a0bd-0fa58a7fbdcc",
   "metadata": {},
   "outputs": [
    {
     "data": {
      "text/html": [
       "<div>\n",
       "<style scoped>\n",
       "    .dataframe tbody tr th:only-of-type {\n",
       "        vertical-align: middle;\n",
       "    }\n",
       "\n",
       "    .dataframe tbody tr th {\n",
       "        vertical-align: top;\n",
       "    }\n",
       "\n",
       "    .dataframe thead th {\n",
       "        text-align: right;\n",
       "    }\n",
       "</style>\n",
       "<table border=\"1\" class=\"dataframe\">\n",
       "  <thead>\n",
       "    <tr style=\"text-align: right;\">\n",
       "      <th></th>\n",
       "      <th>Campaign_ID</th>\n",
       "      <th>Company</th>\n",
       "      <th>Campaign_Type</th>\n",
       "      <th>Target_Audience</th>\n",
       "      <th>Duration</th>\n",
       "      <th>Channel_Used</th>\n",
       "      <th>Conversion_Rate</th>\n",
       "      <th>Acquisition_Cost</th>\n",
       "      <th>ROI</th>\n",
       "      <th>Location</th>\n",
       "      <th>Date</th>\n",
       "      <th>Clicks</th>\n",
       "      <th>Impressions</th>\n",
       "      <th>Engagement_Score</th>\n",
       "      <th>Customer_Segment</th>\n",
       "      <th>Spend</th>\n",
       "      <th>CTR</th>\n",
       "    </tr>\n",
       "  </thead>\n",
       "  <tbody>\n",
       "    <tr>\n",
       "      <th>0</th>\n",
       "      <td>1</td>\n",
       "      <td>Innovate Industries</td>\n",
       "      <td>Email</td>\n",
       "      <td>Men 18-24</td>\n",
       "      <td>30</td>\n",
       "      <td>Google Ads</td>\n",
       "      <td>0.04</td>\n",
       "      <td>16174.0</td>\n",
       "      <td>6.29</td>\n",
       "      <td>Chicago</td>\n",
       "      <td>2021-01-01</td>\n",
       "      <td>506</td>\n",
       "      <td>1922</td>\n",
       "      <td>6</td>\n",
       "      <td>Health &amp; Wellness</td>\n",
       "      <td>646.96</td>\n",
       "      <td>26.326743</td>\n",
       "    </tr>\n",
       "  </tbody>\n",
       "</table>\n",
       "</div>"
      ],
      "text/plain": [
       "   Campaign_ID              Company Campaign_Type Target_Audience  Duration  \\\n",
       "0            1  Innovate Industries         Email       Men 18-24        30   \n",
       "\n",
       "  Channel_Used  Conversion_Rate  Acquisition_Cost   ROI Location       Date  \\\n",
       "0   Google Ads             0.04           16174.0  6.29  Chicago 2021-01-01   \n",
       "\n",
       "   Clicks  Impressions  Engagement_Score   Customer_Segment   Spend        CTR  \n",
       "0     506         1922                 6  Health & Wellness  646.96  26.326743  "
      ]
     },
     "execution_count": 24,
     "metadata": {},
     "output_type": "execute_result"
    }
   ],
   "source": [
    "df.head(1)"
   ]
  },
  {
   "cell_type": "code",
   "execution_count": 25,
   "id": "f407d8ef-092f-41ea-af2e-a2f55d5c6e66",
   "metadata": {},
   "outputs": [
    {
     "data": {
      "text/plain": [
       "Campaign_ID                  int64\n",
       "Company                     object\n",
       "Campaign_Type               object\n",
       "Target_Audience             object\n",
       "Duration                     int64\n",
       "Channel_Used                object\n",
       "Conversion_Rate            float64\n",
       "Acquisition_Cost           float64\n",
       "ROI                        float64\n",
       "Location                    object\n",
       "Date                datetime64[ns]\n",
       "Clicks                       int64\n",
       "Impressions                  int64\n",
       "Engagement_Score             int64\n",
       "Customer_Segment            object\n",
       "Spend                      float64\n",
       "CTR                        float64\n",
       "dtype: object"
      ]
     },
     "execution_count": 25,
     "metadata": {},
     "output_type": "execute_result"
    }
   ],
   "source": [
    "df.dtypes"
   ]
  },
  {
   "cell_type": "markdown",
   "id": "ef8a9c19-acb0-4562-903d-ebb03e0ee0e0",
   "metadata": {},
   "source": [
    "## Export Data"
   ]
  },
  {
   "cell_type": "code",
   "execution_count": 26,
   "id": "6cd0d60e-4eb2-4aaf-ba0b-385c23e55469",
   "metadata": {},
   "outputs": [],
   "source": [
    "df.to_csv(\"Marketing_Campaign_Cleaned.csv\", index=False)"
   ]
  },
  {
   "cell_type": "code",
   "execution_count": null,
   "id": "b0e8ff6c-862a-4912-9f10-db9ab3f838c7",
   "metadata": {},
   "outputs": [],
   "source": []
  }
 ],
 "metadata": {
  "kernelspec": {
   "display_name": "Python 3 (ipykernel)",
   "language": "python",
   "name": "python3"
  },
  "language_info": {
   "codemirror_mode": {
    "name": "ipython",
    "version": 3
   },
   "file_extension": ".py",
   "mimetype": "text/x-python",
   "name": "python",
   "nbconvert_exporter": "python",
   "pygments_lexer": "ipython3",
   "version": "3.13.5"
  }
 },
 "nbformat": 4,
 "nbformat_minor": 5
}
